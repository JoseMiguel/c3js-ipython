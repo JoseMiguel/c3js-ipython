{
 "metadata": {
  "name": "",
  "signature": "sha256:29e679e68fa0e9e18aa09ba52eb9a1d3021876142c21da9ddad1285349da91c2"
 },
 "nbformat": 3,
 "nbformat_minor": 0,
 "worksheets": [
  {
   "cells": [
    {
     "cell_type": "code",
     "collapsed": false,
     "input": [
      "from jinja2 import Environment,FileSystemLoader\n",
      "from IPython.display import IFrame\n",
      "def gen_frame(s,w,h):\n",
      "    import os, datetime\n",
      "    today= str(datetime.datetime.today())\n",
      "    fn = '__tmp_' + str(os.getpid())+today+'.html'\n",
      "    with open(fn, 'w') as f: \n",
      "        f.write(s) \n",
      "    return IFrame(fn,w,h)\n",
      "\n",
      "def plot(data,w=1100,h=420):\n",
      "    def render_template(data):\n",
      "        env = Environment(loader=FileSystemLoader('.'))\n",
      "        return env.get_template('plot.jinja').render(data = data)\n",
      "    html = render_template(data)\n",
      "    return gen_frame(html,w,h)"
     ],
     "language": "python",
     "metadata": {},
     "outputs": [],
     "prompt_number": 24
    },
    {
     "cell_type": "markdown",
     "metadata": {},
     "source": []
    },
    {
     "cell_type": "code",
     "collapsed": false,
     "input": [
      "%%writefile plot.jinja\n",
      "<!-- Load c3.css -->\n",
      "<link href='../js/c3-0.3.0/c3.css' rel=\"stylesheet\" type=\"text/css\"/>\n",
      "\n",
      "<!-- Load d3.js and c3.js -->\n",
      "<script src=\"http://d3js.org/d3.v3.min.js\" charset=\"utf-8\"></script>\n",
      "<script src='../js/c3-0.3.0/c3.min.js'></script>\n",
      "<div id=chart></div>\n",
      "<script> c3.generate({{data}}); </script>\n"
     ],
     "language": "python",
     "metadata": {},
     "outputs": [
      {
       "output_type": "stream",
       "stream": "stdout",
       "text": [
        "Overwriting plot.jinja\n"
       ]
      }
     ],
     "prompt_number": 25
    },
    {
     "cell_type": "code",
     "collapsed": false,
     "input": [
      "#python dict\n",
      "data = {\n",
      "    'bindto': '#chart',\n",
      "    'data': {\n",
      "      'columns': [\n",
      "        ['data1', 30, 200, 100, 400, 150, 250],\n",
      "        ['data2', 50, 20, 10, 40, 15, 25]\n",
      "      ]\n",
      "    }\n",
      "}"
     ],
     "language": "python",
     "metadata": {},
     "outputs": [],
     "prompt_number": 19
    },
    {
     "cell_type": "code",
     "collapsed": false,
     "input": [
      "plot(data)"
     ],
     "language": "python",
     "metadata": {},
     "outputs": [
      {
       "html": [
        "\n",
        "        <iframe\n",
        "            width=\"1100\"\n",
        "            height=420\"\n",
        "            src=\"__tmp_157772014-08-30 18:29:16.304269.html\"\n",
        "            frameborder=\"0\"\n",
        "            allowfullscreen\n",
        "        ></iframe>\n",
        "        "
       ],
       "metadata": {},
       "output_type": "pyout",
       "prompt_number": 20,
       "text": [
        "<IPython.lib.display.IFrame at 0x7f6ce40670d0>"
       ]
      }
     ],
     "prompt_number": 20
    },
    {
     "cell_type": "code",
     "collapsed": false,
     "input": [],
     "language": "python",
     "metadata": {},
     "outputs": []
    }
   ],
   "metadata": {}
  }
 ]
}
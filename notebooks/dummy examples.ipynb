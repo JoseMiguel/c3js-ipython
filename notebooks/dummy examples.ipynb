{
 "metadata": {
  "name": "",
  "signature": "sha256:f6abab127db7dc478c471c1ba097fefdd3a2338f672636da793912ac70d28d3f"
 },
 "nbformat": 3,
 "nbformat_minor": 0,
 "worksheets": [
  {
   "cells": [
    {
     "cell_type": "heading",
     "level": 1,
     "metadata": {},
     "source": [
      "plot function using jinja "
     ]
    },
    {
     "cell_type": "code",
     "collapsed": false,
     "input": [
      "from jinja2 import Environment,FileSystemLoader\n",
      "from IPython.display import IFrame\n",
      "def gen_frame(s,w,h):\n",
      "    import os, datetime\n",
      "    today= str(datetime.datetime.today())\n",
      "    fn = '__tmp_' + str(os.getpid())+today+'.html'\n",
      "    with open(fn, 'w') as f: \n",
      "        f.write(s) \n",
      "    return IFrame(fn,w,h)\n",
      "\n",
      "def plot(data,w=1100,h=420):\n",
      "    def render_template(data):\n",
      "        env = Environment(loader=FileSystemLoader('.'))\n",
      "        return env.get_template('plot.jinja').render(data = data)\n",
      "    html = render_template(data)\n",
      "    return gen_frame(html,w,h)"
     ],
     "language": "python",
     "metadata": {},
     "outputs": [],
     "prompt_number": 26
    },
    {
     "cell_type": "heading",
     "level": 3,
     "metadata": {},
     "source": [
      "setting directories in jinja template"
     ]
    },
    {
     "cell_type": "code",
     "collapsed": false,
     "input": [
      "%%writefile plot.jinja\n",
      "<!-- Load c3.css -->\n",
      "<link href='../js/c3-0.3.0/c3.css' rel=\"stylesheet\" type=\"text/css\"/>\n",
      "\n",
      "<!-- Load d3.js and c3.js -->\n",
      "<script src=\"http://d3js.org/d3.v3.min.js\" charset=\"utf-8\"></script>\n",
      "<script src='../js/c3-0.3.0/c3.min.js'></script>\n",
      "<div id=chart></div>\n",
      "<script> c3.generate({{data}}); </script>\n"
     ],
     "language": "python",
     "metadata": {},
     "outputs": [
      {
       "output_type": "stream",
       "stream": "stdout",
       "text": [
        "Overwriting plot.jinja\n"
       ]
      }
     ],
     "prompt_number": 27
    },
    {
     "cell_type": "code",
     "collapsed": false,
     "input": [
      "#python dict\n",
      "scatter = {\n",
      "    'bindto': '#chart',\n",
      "    'data': {\n",
      "      'columns': [\n",
      "        ['data1', 30, 200, 100, 400, 150, 250],\n",
      "        ['data2', 50, 20, 10, 40, 15, 25]\n",
      "      ]\n",
      "    }\n",
      "}"
     ],
     "language": "python",
     "metadata": {},
     "outputs": [],
     "prompt_number": 28
    },
    {
     "cell_type": "code",
     "collapsed": false,
     "input": [
      "plot(scatter)"
     ],
     "language": "python",
     "metadata": {},
     "outputs": [
      {
       "html": [
        "\n",
        "        <iframe\n",
        "            width=\"1100\"\n",
        "            height=420\"\n",
        "            src=\"__tmp_157772014-08-30 18:31:33.300494.html\"\n",
        "            frameborder=\"0\"\n",
        "            allowfullscreen\n",
        "        ></iframe>\n",
        "        "
       ],
       "metadata": {},
       "output_type": "pyout",
       "prompt_number": 29,
       "text": [
        "<IPython.lib.display.IFrame at 0x7f6ce4037e50>"
       ]
      }
     ],
     "prompt_number": 29
    },
    {
     "cell_type": "code",
     "collapsed": false,
     "input": [
      "charttype = {\n",
      "    'bindto': '#chart',\n",
      "    'data': {\n",
      "      'columns': [\n",
      "        ['data1', 30, 200, 100, 400, 150, 250],\n",
      "        ['data2', 50, 20, 10, 40, 15, 25]\n",
      "      ],\n",
      "      'axes': {\n",
      "        'data2': 'y2'\n",
      "      },\n",
      "      'types': {\n",
      "        'data2': 'bar'\n",
      "      }\n",
      "    },\n",
      "    'axis': {\n",
      "      'y': {\n",
      "        'label': {\n",
      "          'text': 'Y Label',\n",
      "          'position': 'outer-middle'\n",
      "        }\n",
      "      },\n",
      "      'y2': {\n",
      "        'show': 'true',\n",
      "        'label': {\n",
      "          'text': 'Y2 Label',\n",
      "          'position': 'outer-middle'\n",
      "        }\n",
      "      }\n",
      "    }\n",
      "}"
     ],
     "language": "python",
     "metadata": {},
     "outputs": [],
     "prompt_number": 31
    },
    {
     "cell_type": "code",
     "collapsed": false,
     "input": [
      "plot(charttype)"
     ],
     "language": "python",
     "metadata": {},
     "outputs": [
      {
       "html": [
        "\n",
        "        <iframe\n",
        "            width=\"1100\"\n",
        "            height=420\"\n",
        "            src=\"__tmp_157772014-08-30 18:35:17.144273.html\"\n",
        "            frameborder=\"0\"\n",
        "            allowfullscreen\n",
        "        ></iframe>\n",
        "        "
       ],
       "metadata": {},
       "output_type": "pyout",
       "prompt_number": 32,
       "text": [
        "<IPython.lib.display.IFrame at 0x7f6ce4037b50>"
       ]
      }
     ],
     "prompt_number": 32
    },
    {
     "cell_type": "code",
     "collapsed": false,
     "input": [],
     "language": "python",
     "metadata": {},
     "outputs": []
    }
   ],
   "metadata": {}
  }
 ]
}